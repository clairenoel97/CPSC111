{
 "cells": [
  {
   "cell_type": "markdown",
   "metadata": {},
   "source": [
    "# [CptS 111 Introduction to Algorithmic Problem Solving](http://piazza.com/wsu/spring2017/cpts111/home)\n",
    "[Washington State University](https://wsu.edu)\n",
    "\n",
    "\n",
    "[Gina Sprint](http://eecs.wsu.edu/~gsprint/)\n",
    "# L3-2 Modules and Practice\n",
    "\n",
    "Learner objectives for this lesson\n",
    "* Understand what a module is, how to import a module, and how to access identifiers contained within a module\n",
    "* Import the `math` module and utilize math-related variables and functions\n",
    "* Import and use the `turtle` module"
   ]
  },
  {
   "cell_type": "markdown",
   "metadata": {},
   "source": [
    "## MA4 Practice Problems\n",
    "On a blank sheet of paper, write the following:\n",
    "1. Your full name\n",
    "1. Your TA name (or lab time if you don't know your TA name)\n",
    "1. MA #4\n",
    "\n",
    "In pairs, work on the following problems. Each student needs to turn in their own paper to get credit for MA4.\n",
    "\n",
    "1. What are the three kinds of programming errors? Can you give an example of each?\n",
    "    1. \n",
    "    1. \n",
    "    1. \n",
    "1. Rank the order of precedence for the following C operators (1 is the highest precedence, 5 is the lowest precedence):\n",
    "    1. `+ # binary addition `\n",
    "    1. `- # unary minus (e.g. negation)`\n",
    "    1. `% # modulus`\n",
    "    1. `= # assignment`\n",
    "    1. `() # parentheses `\n",
    "1. Evaluate each of the following equations and *determine the resultant data type*:\n",
    "    1. `4 / 12 =`\n",
    "    1. `4 // 12 =`\n",
    "    1. `4 % 12 =`\n",
    "    1. `7 // 4 =`\n",
    "    1. `9.0 / 4.0 =`\n",
    "    1. `3 / 0 = `\n",
    "    1. `3.0 % 1 =`\n",
    "    1. `16 % 0 = `\n",
    "    1. `3 % 5 = `\n",
    "    1. `9 % 5 = `\n",
    "    1. `2 * 4 ** 2 =`\n",
    "    1. `2 ** 4 ** (2 / 4) = `\n",
    "1. Given `y = m % n`, what are the possible values of `y`?\n",
    "1. Write the following equation as a Python arithmetic statement: \n",
    "$$q=\\frac{kA(T_1-T_2)}{L}$$\n",
    "1. Show the output displayed by the following program when the data entered are 12 for `m` and 0 for `n`:"
   ]
  },
  {
   "cell_type": "code",
   "execution_count": null,
   "metadata": {
    "collapsed": false
   },
   "outputs": [],
   "source": [
    "m = int(input(\"Enter an integer> \"))\n",
    "n = int(input(\"Enter an integer> \"))\n",
    "m = m + 5\n",
    "n = 3 * n\n",
    "print(\"m = %d\\nn = %d\\n\" %(m, n))"
   ]
  },
  {
   "cell_type": "markdown",
   "metadata": {
    "collapsed": true
   },
   "source": [
    "## Python Modules\n",
    "A *module* is a file that contains a collection of related variables and functions. Python provides several modules for us programmers to use in our programs. In order to use the variables and functions within a module, we have to let Python know we want to use the module with an `import <name of module>` statement. "
   ]
  },
  {
   "cell_type": "code",
   "execution_count": null,
   "metadata": {
    "collapsed": false
   },
   "outputs": [],
   "source": [
    "import math # math is a module containing... math variables and functions!"
   ]
  },
  {
   "cell_type": "markdown",
   "metadata": {},
   "source": [
    "To access one of the variables or functions in a module, you type the module name (somewhere in the code *after* you import the module, remember Python executes code from top to bottom), followed by a dot, and then the name of the variable or function. For example, we can access an approximation of the mathematical constant `pi` ($\\pi$) in the `math` module:"
   ]
  },
  {
   "cell_type": "code",
   "execution_count": null,
   "metadata": {
    "collapsed": false
   },
   "outputs": [],
   "source": [
    "print(math.pi)"
   ]
  },
  {
   "cell_type": "markdown",
   "metadata": {},
   "source": [
    "As another example, to access the square root function of the `math` module, use `math.sqrt()`:"
   ]
  },
  {
   "cell_type": "code",
   "execution_count": null,
   "metadata": {
    "collapsed": false
   },
   "outputs": [],
   "source": [
    "# don't forget the help() command to learn more about a function\n",
    "print(help(math.sqrt))\n",
    "\n",
    "print(math.sqrt(4))"
   ]
  },
  {
   "cell_type": "markdown",
   "metadata": {},
   "source": [
    "## Math Functions\n",
    "The Python `math` module defines numerous useful mathematical functions. This library is an excellent example of the power of functions: commonly-used mathematical operations are packaged up in functions that can be re-used over and over. We don't have to define these functions or know how they work, we can simply call the functions and use the return value(s). Examples of math functions available for our use include:\n",
    "* `fabs()` for absolute values\n",
    "* `ceil()` for computing the ceiling of a number\n",
    "* `floor()` for computing the floor of a number\n",
    "* `cos()` for cosine function\n",
    "* `sin()` for sine function\n",
    "* `tan()` for tangent function\n",
    "* `pow()` for raising a number to its power\n",
    "* `log()` for logarithms (see also `log2()` and `log10()`\n",
    "* `sqrt()` for computing square roots\n",
    "\n",
    "Note: trig functions expect arguments in radians, not degrees. To convert degrees to radians, multiply by (`math.pi` / 180) or use the `radians()` function in the `math` module.\n",
    "\n",
    "You can find out all the functions available within a module by importing the module, typing the module name and a dot, then pressing tab. This \"auto-complete\" feature is super helpful when learning a new library or when you can't remember the name of a function."
   ]
  },
  {
   "cell_type": "code",
   "execution_count": null,
   "metadata": {
    "collapsed": false
   },
   "outputs": [],
   "source": [
    "x = -5\n",
    "print(\"Absolute value of %d: %d\" %(x, math.fabs(x)))\n",
    "\n",
    "degrees = 45\n",
    "rads = degrees * (math.pi / 180.0)\n",
    "print(\"%d degrees in radians is %.2f\" %(degrees, rads))\n",
    "print(\"The sine of %d degrees is %.2f\" %(degrees, math.sin(rads)))"
   ]
  },
  {
   "cell_type": "markdown",
   "metadata": {},
   "source": [
    "## Turtle Graphics\n",
    "There are several Python modules available for doing graphical user interface (GUI) programming. For example, the `turtle` graphics library makes it really easy to draw pictures programmatically. We will return to `turtle` graphics later, but for now, check out how easy it is to draw:"
   ]
  },
  {
   "cell_type": "code",
   "execution_count": null,
   "metadata": {
    "collapsed": false
   },
   "outputs": [],
   "source": [
    "import turtle\n",
    "turtle.forward(100)\n",
    "turtle.done()"
   ]
  },
  {
   "cell_type": "markdown",
   "metadata": {},
   "source": [
    "<img src=\"https://raw.githubusercontent.com/gsprint23/cpts111/master/lessons/figures/turtle_simple.png\" width=450</img>"
   ]
  },
  {
   "cell_type": "markdown",
   "metadata": {},
   "source": [
    "## An Aside: In-class Group Work\n",
    "Teaching by telling and learning by listening is not an effective teaching/learning model for *most* students. Consequently, CptS 111 is an active learning class. This means, I am going to lecture as little as possible! Instead, in class, we will often be learning new concepts and applying skills in groups of 3 students such that **every group has at least one student with a laptop.** Each member of the group is going to have a specific role:\n",
    "1. Manager: Manages the group.\n",
    "    * Ensures that members are fulfilling their role, the assigned tasks are being accomplished on time, and all members of the group are participating in the activities.\n",
    "    * Reads the task descriptions to the group.\n",
    "1. Technician: Performs computations.\n",
    "    * Has a laptop with the Spyder IDE open, types/executes Python code, and reports/explains the results to all members of the group.\n",
    "    * Checks results.\n",
    "1. Recorder: Records and presents information.\n",
    "    * Records the names and roles of the group members, the important aspects of the group discussions/observations/insights/etc for group notes (perhaps in an email) and micro assignments.\n",
    "    * Presents oral reports to the class for the group.\n",
    "    \n",
    "Each location in the lesson that requires the group to provide information (e.g. answer a problem, record results) will be <mark>highlighted in yellow</mark>."
   ]
  },
  {
   "cell_type": "markdown",
   "metadata": {},
   "source": [
    "## Software Development Method\n",
    "Equivalent to the \"Scientific Method\" in the sciences and the \"Systems Approach\" in business.\n",
    "\n",
    "Six basic steps:\n",
    "1. Specify problem requirements\n",
    "1. Analyze the problem\n",
    "1. Design an algorithm to solve the problem\n",
    "1. Implement the algorithm\n",
    "1. Test and verify the completed program\n",
    "1. Maintain and update the program\n",
    "\n",
    "Developing software is an iterative process, your first solution is generally not your best. Your understanding of software your required to build evolves as you understand the problem more. At this point don't be afraid to make mistakes!\n",
    "\n",
    "## Practice Problems\n",
    "Apply the software development method to the practice problems below. Have fun!\n",
    "\n",
    "Note: Some problem descriptions have been adapted from Chapter 2 of Hanly & Koffman's Problem Solving and Program Design in C (7th Edition)"
   ]
  },
  {
   "cell_type": "markdown",
   "metadata": {},
   "source": [
    "### <mark>Problem #1 Tax</mark>\n",
    "Write a program to compute the total price for a purchase after sales tax. Prompt the user to enter the purchase amount and the sales tax percent. Display the total price (to the nearest 2 decimal places) after adding the sales tax to the purchase amount.\n",
    "\n",
    "Example output:\n",
    "\n",
    "```\n",
    "Please enter the purchase price: 9.00\n",
    "Please enter the sales tax as a percent (%): 7.8\n",
    "Total purchase price after tax: $9.70\n",
    "```"
   ]
  },
  {
   "cell_type": "code",
   "execution_count": null,
   "metadata": {
    "collapsed": false
   },
   "outputs": [],
   "source": []
  },
  {
   "cell_type": "markdown",
   "metadata": {},
   "source": [
    "### <mark>Problem #2 Mileage Reimbursement</mark>\n",
    "Write a program that calculates mileage reimbursement for a salesperson at the rate of \\$.35 per mile. \n",
    "\n",
    "Example output:\n",
    "\n",
    "```\n",
    "MILEAGE REIMBURSEMENT CALCULATOR\n",
    "Please enter the beginning odometer reading: 13505.2\n",
    "Please enter the ending odometer reading: 13810.6\n",
    "You traveled 305.4 miles. At $0.35 per mile, your reimbursement is $106.89\n",
    "```"
   ]
  },
  {
   "cell_type": "code",
   "execution_count": null,
   "metadata": {
    "collapsed": true
   },
   "outputs": [],
   "source": []
  },
  {
   "cell_type": "markdown",
   "metadata": {},
   "source": [
    "### <mark>Problem #3 Pythagoras</mark>\n",
    "The Pythagorean theorem states that the sum of the squares of the sides of a right triangle is equal to the square of the hypotenuse.\n",
    "\n",
    "$$side1^{2} + side2^{2} = hypotenuse^{2}$$\n",
    "\n",
    "For example, if two sides of a right triangle have lengths 3 and 4, then the hypotenuse must have a length of 5. Together the integers 3, 4, and 5 form a Pythagorean triple. There are an infinite number of such triples. Given two positive integers `m` and `n`, **where `m`> `n`**, a Pythagorean triple can be generated by the following formulas:\n",
    "1. side1 = $m^2 – n^2$\n",
    "1. side2 = $2mn$\n",
    "1. hypotenuse = $m^2 + n^2$\n",
    "\n",
    "Write a program that takes the values for `m` and `n` as input and displays the values of the Pythagorean triple generated by the formulas above.\n",
    "\n",
    "Example output:\n",
    "\n",
    "```\n",
    "Please enter an m value: 4\n",
    "Please enter an n value: 2\n",
    "Pythagorean triple: 12^2 + 16^2 = 20^2\n",
    "```"
   ]
  },
  {
   "cell_type": "code",
   "execution_count": null,
   "metadata": {
    "collapsed": true
   },
   "outputs": [],
   "source": []
  },
  {
   "cell_type": "code",
   "execution_count": null,
   "metadata": {
    "collapsed": true
   },
   "outputs": [],
   "source": [
    "# check the result"
   ]
  },
  {
   "cell_type": "markdown",
   "metadata": {},
   "source": [
    "### Problem #4 Average of 3 GPAs\n",
    "Note: This problem serves as an example of redundant code. This problem motivates the benefits of defining and using functions, which we will cover next class!\n",
    "\n",
    "Problem Statement: Write a program that computes your grade point average after completion of 3 courses.\n",
    "\n",
    "Inputs:\n",
    "* Grade point and number of credits for course 1\n",
    "* Grade point and number of credits for course 2\n",
    "* Grade point and number of credits for course 3\n",
    "\n",
    "Outputs\n",
    "* Grade point average (GPA)\n",
    "Relevant formula: `GPA = ((grade_point1 * num_credits1) + (grade_point2 * num_credits2) + (grade_point3 * num_credits3)) / total_num_credits`\n",
    "\n",
    "### Algorithm\n",
    "1. Get the grade points earned from each class\n",
    "1. Get the credit hours for each class\n",
    "1. Compute the credits hours earned\n",
    "    * `weighted_credits = (grade_point1 * num_credits1) + (grade_point2 * num_credits2) + (grade_point3 * num_credits3)`\n",
    "1. Compute the total number of credits\n",
    "    * `total_num_credits = num_credits1 + num_credits2 + num_credits3`\n",
    "1. Compute the average of the grade points\n",
    "    * `gpa = weighted_credits / total_num_credits`\n",
    "1. Display the results  \n",
    "\n",
    "Implementation:"
   ]
  },
  {
   "cell_type": "code",
   "execution_count": null,
   "metadata": {
    "collapsed": false
   },
   "outputs": [],
   "source": [
    "# get grade point and credit hours for each class\n",
    "print(\"Please enter the gpa for your computer science course: \")\n",
    "gpa1 = float(input())\n",
    "print(\"Please enter number of credits for your computer science course: \")\n",
    "num_credits1 = int(input())\n",
    "\n",
    "print(\"Please enter the gpa for your math course: \")\n",
    "gpa2 = float(input())\n",
    "print(\"Please enter number of credits for your math course: \")\n",
    "num_credits2 = int(input())\n",
    "\n",
    "print(\"Please enter the gpa for your karate course: \")\n",
    "gpa3 = float(input())\n",
    "print(\"Please enter number of credits for your karate course: \")\n",
    "num_credits3 = int(input())\n",
    "\n",
    "# compute the weighted credit hours earned\n",
    "weighted_credits = (num_credits1 * gpa1) + (num_credits2 * gpa2) + (num_credits3 * gpa3)\n",
    "\n",
    "# compute the total number of credits earned\n",
    "total_num_credits = num_credits1 + num_credits2 + num_credits3\n",
    "\n",
    "# copute the average of the grade points\n",
    "gpa = weighted_credits / total_num_credits\n",
    "\n",
    "# display the results to the user\n",
    "print(\"Your GPA is: %.2f\" %(gpa))"
   ]
  },
  {
   "cell_type": "markdown",
   "metadata": {},
   "source": [
    "What do you think of this example? It seems redundant, right? We're using the exact same sequence of commands (`print()` and `input()`) to obtain the three grade points and credits. Is there a better (less redundant, easier to read, more concise) way to approach this problem? Enter: Functions!!"
   ]
  },
  {
   "cell_type": "markdown",
   "metadata": {},
   "source": [
    "## TODO\n",
    "1. To get good at programming you have to write code. Solve all of the practice problems above. Sketch out a pseudocode solution first on paper, then code them up in Python. \n",
    "1. Work on PA1, it is due Wednesday, February 1 at midnight.\n",
    "1. Functions can be difficult to comprehend at first. Please read about functions in zyBooks and How to Think Like a Computer Scientist for extra exposure to functions, it will help!\n",
    "\n",
    "## Next Lesson\n",
    "We will define our own functions!!"
   ]
  }
 ],
 "metadata": {
  "anaconda-cloud": {},
  "kernelspec": {
   "display_name": "Python [Root]",
   "language": "python",
   "name": "Python [Root]"
  },
  "language_info": {
   "codemirror_mode": {
    "name": "ipython",
    "version": 3
   },
   "file_extension": ".py",
   "mimetype": "text/x-python",
   "name": "python",
   "nbconvert_exporter": "python",
   "pygments_lexer": "ipython3",
   "version": "3.5.2"
  }
 },
 "nbformat": 4,
 "nbformat_minor": 0
}
