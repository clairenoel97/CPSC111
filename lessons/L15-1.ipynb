{
 "cells": [
  {
   "cell_type": "markdown",
   "metadata": {},
   "source": [
    "# [CptS 111 Introduction to Algorithmic Problem Solving](http://piazza.com/wsu/spring2017/cpts111/home)\n",
    "[Washington State University](https://wsu.edu)\n",
    "\n",
    "[Gina Sprint](http://eecs.wsu.edu/~gsprint/)\n",
    "# L15-1 Final Exam Review"
   ]
  },
  {
   "cell_type": "markdown",
   "metadata": {
    "collapsed": true
   },
   "source": [
    "## What to Bring?\n",
    "* Two sharp pencils\n",
    "* Python Programming knowledge in your head :)\n",
    "* A \"cheat sheet\" (see below)  \n",
    "\n",
    "## What NOT to Bring?\n",
    "* Electronics (including calculators) may not be used during the exam!\n",
    "* Notes may not be used during the exam!\n",
    "\n",
    "Note: If you are caught cheating, your exam will be confiscated and you will receive a 0.\n",
    "\n",
    "Note: Use the restroom before class. **Once testing starts, the only reason for leaving the classroom is turning in your exam as done.**\n",
    "\n",
    "## The \"Cheat Sheet\"\n",
    "The exam will be closed-book, but you will be allowed a **handwritten** \"cheat sheet\": one side of a page whose dimensions may not exceed 8-1/2\" by 11\" (i.e. **one standard sheet of notebook paper**). You must present your cheat sheet to myself or a TA so it can be verified that it meets regulations. \n",
    "\n",
    "If you bring/use a cheat sheet that: \n",
    "1. Exceeds the allowable dimensions\n",
    "1. Has writing on both sides of the page\n",
    "1. Contains non-handwritten text (i.e. printed)\n",
    "\n",
    "You run the risk of its being confiscated prior to the exam. This policy will be strictly enforced.\n",
    "\n",
    "If you choose to use a cheat sheet, you will be required to turn in your cheat sheet with your exam.\n",
    "\n",
    "## Exam Timeframe\n",
    "You will have 2 hours (120 minutes) to take the exam. Time will be extremely tight for the exam so manage your time well. If you show up late to class, you will have less time to take the exam. \n",
    "\n",
    "Note: **NO EARLY EXAMINATIONS**, as per [university policy](https://registrar.wsu.edu/media/753372/Fall%202016%20Final%20Exam.pdf). Final Examinations will not be rescheduled for the purpose of leaving the institution before the close of the semester (per academic rule 79). This means you are to take your CptS 111 final exam during your scheduled time block:\n",
    "\n",
    "* *Section 01 (2:10pm lecture)*: Monday, May 1st; 8:00 – 10:00am\n",
    "* *Section 03 (11:10am lecture)*: Tuesday, May 2nd; 3:10 – 5:10pm"
   ]
  },
  {
   "cell_type": "markdown",
   "metadata": {},
   "source": [
    "## Exam Coverage\n",
    "The exam covers everything we have covered in the course. Here is an outline of the topics we have covered so far:\n",
    "\n",
    "### Exam #1 Topics\n",
    "[Exam #1 review topics](http://nbviewer.jupyter.org/github/gsprint23/cpts111/blob/master/lessons/L6-2.ipynb)\n",
    "\n",
    "\n",
    "### Exam #2 Topics\n",
    "[Exam #2 review topics](http://nbviewer.jupyter.org/github/gsprint23/cpts111/blob/master/lessons/L11-2.ipynb)\n",
    "\n",
    "\n",
    "### 1 Lists\n",
    "(Chapter 11 in zyBooks and Chapter 10 in *How to Think like a Computer Scientist*)\n",
    "* Describe what is a list\n",
    "    * A sequence of times with one variable name\n",
    "    * A list is considered a data structure\n",
    "        * A data structure is a way of storing and organizing information; a composite of related data items\n",
    "    * Lists can have items of different types\n",
    "    * Lists are mutable\n",
    "* Declare and apply single and 2-dimensional lists (nested lists)\n",
    "    * Use [ ] (hard brackets) to declare lists\n",
    "    * `list()`\n",
    "* Define what is an index\n",
    "    * Recall list indexing in C starts at 0\n",
    "* Lists and loops\n",
    "    * Use a loop to initialize each item in a list\n",
    "    * Use loops to traverse through lists\n",
    "* Write functions which accept lists (single and 2-dimensional) as parameters\n",
    "* What happens when a list is passed to a function?\n",
    "    * The list reference is copied and passed into the function\n",
    "    * Via the reference, the function can modify the list\n",
    "* Return lists from functions\n",
    "* How to get the number of items in a list?\n",
    "* Understand and apply list operators (e.g. concatenation, repetition, slice, etc.)\n",
    "* Understand and apply list methods (e.g. `append()`, `extend()`, etc.)\n",
    "* Understand and apply string methods that return lists (e.g. `join()`, `split()`, etc.)\n",
    "* Remove items in a list\n",
    "* Describe what is aliasing\n",
    "    * When two or more references refer to the same object\n",
    "    * Difference between how Python creates objects for mutable types (e.g. lists) and immutable types (e.g. strings)"
   ]
  },
  {
   "cell_type": "markdown",
   "metadata": {},
   "source": [
    "### 2 Tuples\n",
    "(Chapter 10 in *How to Think like a Computer Scientist*)\n",
    "* Describe what is a tuple\n",
    "    * An immutable list\n",
    "* Declare and apply single and 2-dimensional tuples (nested tuples)\n",
    "    * Use () and , (parentheses and/or commas) to declare tuples\n",
    "    * `tuple()`\n",
    "* How to get the number of items in a tuple?\n",
    "* Tuple indexing\n",
    "* Tuple slicing"
   ]
  },
  {
   "cell_type": "markdown",
   "metadata": {},
   "source": [
    "### 3 Dictionaries\n",
    "(Chapter 12 in zyBooks and Chapter 12 in *How to Think like a Computer Scientist*)\n",
    "* Describe what are keys\n",
    "* Describe what are values\n",
    "* Describe what is a mapping\n",
    "* Describe what are key-value pairs\n",
    "* Describe what is a dictionary\n",
    "    * A list with keys as indices\n",
    "    * Dictionaries are mutable\n",
    "    * Valid data types for keys and values\n",
    "* Declare and apply single and 2-dimensional dictionaries (nested dictionaries)\n",
    "    * Use { } (curly brackets) to declare dictionaries\n",
    "    * `dict()`\n",
    "* Convert tuples to dictionaries and dictionaries to tuples\n",
    "* Dictionary indexing\n",
    "* Dictionaries and loops\n",
    "* Adding key-value pairs\n",
    "* Testing existence of a key\n",
    "* How to get the number of key-value pairs in a dictionary?\n",
    "* Understand and apply dictionary methods (e.g. `items()`, etc.)"
   ]
  },
  {
   "cell_type": "markdown",
   "metadata": {},
   "source": [
    "### Other Topics\n",
    "* Working with APIs\n",
    "* 8x8 light board hardware/software\n",
    "    * RGB values\n",
    "* `time` module\n",
    "* Converting decimal to binary\n",
    "* Converting binary to decimal"
   ]
  },
  {
   "cell_type": "markdown",
   "metadata": {},
   "source": [
    "## Recommended Strategy for Preparing for the Exam\n",
    "The exam questions will require you to solve problems in a variety of formats: defining key terms, evaluating expressions, writing code, determining the output of code, etc.\n",
    "\n",
    "I recommend that you use the following activities and materials to prepare for the exam:\n",
    "* Review micro assignments, lab exercises, programming assignments, and problems solved in class\n",
    "    * These may well be your best resources. An excellent learning activity would be to re-solve the micro assignments, lab exercises, in class exercises, and programming assignments. \n",
    "* Lesson notes and example code\n",
    "* Read the textbook\n",
    "    * Read or re-read zyBooks chapters 11-12 and How to Think Like a Computer Scientist chapters 10 and 12. "
   ]
  },
  {
   "cell_type": "markdown",
   "metadata": {},
   "source": [
    "## Extra Practice Problems"
   ]
  },
  {
   "cell_type": "markdown",
   "metadata": {},
   "source": [
    "### 1\n",
    "Write a program to roll a 6-sided die 1,000 times. Use a dictionary to store the count of each die face to determine the percentage of each outcome. Are the percentages what you would expect them to be?\n",
    "\n",
    "Repeat the above problem for rolling two 6-sided dice (i.e. the sum of both dice). Are the percentages what you would expect them to be?"
   ]
  },
  {
   "cell_type": "code",
   "execution_count": null,
   "metadata": {
    "collapsed": false
   },
   "outputs": [],
   "source": []
  },
  {
   "cell_type": "markdown",
   "metadata": {},
   "source": [
    "### 2\n",
    "Write a function called `my_str_concatenate(str1, str2)` that implements the functionality of `str1 + str2` (string concatenation). **Do not use the string concatenation operator + in your solution.**"
   ]
  },
  {
   "cell_type": "code",
   "execution_count": null,
   "metadata": {
    "collapsed": false
   },
   "outputs": [],
   "source": []
  },
  {
   "cell_type": "markdown",
   "metadata": {},
   "source": [
    "### 3\n",
    "Write a function called `my_split(astring, delimiter)` that implements the functionality of the string method `split()`. The parameter `delimiter` is a string of *one or more characters* to break a string `astring` into pieces. This function should return a list of strings in `astring` that are separated by `delimiter`. **Do not use the string method `split()` in your solution.**\n",
    "\n",
    "Example: `my_split(\"hello??how??are??you\", \"??\")` returns the list `[\"hello\", \"how\", \"are\", \"you\"]`"
   ]
  },
  {
   "cell_type": "code",
   "execution_count": null,
   "metadata": {
    "collapsed": false
   },
   "outputs": [],
   "source": []
  },
  {
   "cell_type": "markdown",
   "metadata": {},
   "source": [
    "### 4\n",
    "Write a program that prompts the user for a *single letter*. If the user enters a valid letter (upper or lower case), tell them a *random* word that *starts with that letter* from [words.txt](http://thinkpython2.com/code/words.txt). If the user enters a string of more than one letter, tell them their response is invalid and re-prompt until a valid letter is entered.\n",
    "\n",
    "Define functions where appropriate!"
   ]
  },
  {
   "cell_type": "code",
   "execution_count": null,
   "metadata": {
    "collapsed": false
   },
   "outputs": [],
   "source": []
  },
  {
   "cell_type": "markdown",
   "metadata": {},
   "source": [
    "### 5\n",
    "Download [titanic.txt](https://raw.githubusercontent.com/gsprint23/cpts111/master/lessons/files/titanic.txt). Each row in this file is a comma-separated list of strings representing attributes of passengers aboard the Titanic: class,age,sex,survived\n",
    "\n",
    "Note: the first line in the file is the header describing the order of the attributes. Each line after the header represents a single passenger's attributes.\n",
    "\n",
    "Based on this data, answer the following questions:\n",
    "1. How many people on board (according to this dataset)?\n",
    "1. How many survived? Of the total number of people, what percentage survived?\n",
    "1. How many children survived? Of the total number of children, what percentage survived?\n",
    "1. How many male crew members were there? Of the total male crew members, what percentage survived? \n",
    "    * What about the female crew members? \n",
    "    * What are your observations about these findings?\n",
    "\n",
    "Write your solution such that it handles any order of the attributes in the file. The header will tell you this order! This means, do not hard code the indices of the attributes."
   ]
  },
  {
   "cell_type": "code",
   "execution_count": null,
   "metadata": {
    "collapsed": false
   },
   "outputs": [],
   "source": []
  },
  {
   "cell_type": "markdown",
   "metadata": {},
   "source": [
    "### 6\n",
    "By hand:\n",
    "1. Convert 11001 to decimal\n",
    "1. Convert 132 to binary\n",
    "1. How many bits are needed to store the decimal number 15? A bit is a single 0 or 1 digit.\n",
    "1. Convert the following message to English using the [unicode](http://dev.networkerror.org/utf8/?start=33&end=133&cols=4&search=&show_uni_int=on&show_uni_hex=on&show_html_ent=on&show_raw_hex=on&show_raw_bin=on) table of values\n",
    "\n",
    "```\n",
    "01001000 01100101 01101100 01101100 01101111 00101100 00100000 \n",
    "01110111 01101111 01110010 01101100 01100100\n",
    "```"
   ]
  },
  {
   "cell_type": "markdown",
   "metadata": {},
   "source": [
    "### 7\n",
    "Write a function called `build_jagged2d()` that accepts an integer value greater than 1 as an argument. The function creates a nested list of integers where the first row has one zero, the second row has two zeroes, and so on. The function returns the two dimensional list.\n",
    "\n",
    "Example: `build_jagged2d(3)` returns a two dimensional list of three rows, the first row having one zero, the second having two zeros, and the third having three zeroes. Logically, this looks like the following:\n",
    "```\n",
    "0\n",
    "0 0\n",
    "0 0 0\n",
    "```\n",
    "Programmatically, this looks like: `[[0], [0, 0], [0, 0, 0]]`"
   ]
  },
  {
   "cell_type": "markdown",
   "metadata": {},
   "source": [
    "### 8\n",
    "Write a function called `compute_mins_seconds(ms)` that accepts a duration in milliseconds and returns a tuple of minutes and seconds. For example, `compute_min_seconds(125000)` would return the tuple `(2, 5)` corresponding to 2 minutes and 5 seconds in 125000 milliseconds."
   ]
  },
  {
   "cell_type": "markdown",
   "metadata": {},
   "source": [
    "### 9\n",
    "For the following problems, we will need to download a file: [words.txt](http://thinkpython2.com/code/words.txt). This file contains 113,809 official crossword words, one per line. Using words.txt, write a program with the following functionality:\n",
    "1. `count_words()`: accepts the file object as an argument and returns the number of words in the file.\n",
    "1. `avg_word_length()`: accepts the file object as an argument and returns the average number of characters per word.\n",
    "1. `write_word_lengths()`: accepts the file object as an argument and for each word in words.txt, writes the number of characters in the word to a file (lengths.txt), one number per line.\n",
    "\n",
    "You may choose to define/call additional functions if you wish."
   ]
  },
  {
   "cell_type": "markdown",
   "metadata": {},
   "source": [
    "### 10\n",
    "Given the following table of data:\n",
    "\n",
    "|ID Number|Last name|First name|\n",
    "|-|-|-|\n",
    "|28905|Smith|Jane|\n",
    "|34590|Johnson|Jane|\n",
    "|19485|Smith|John|\n",
    "|28450|Smith|John|\n",
    "|17834|Anderson|John|\n",
    "\n",
    "Write code to perform the following:\n",
    "1. Populate a dictionary called `students` with the student information in the table. Keys in the dictionary should be ID Numbers and values in the dictionary should be two-item tuples containing first and last names.\n",
    "1. Display each key-value pair in `students` in the following form: `28905: Smith, Jane`\n",
    "1. Display the first letter of each last name in `students`, all on one line separated by commas. Example: `S, J, S, S, A`\n",
    "    * Now display the list of last name first letters in sorted order. Example: `A, J, S, S, S`\n",
    "1. Add another student, 19654 Janet Smithy, to `students`\n",
    "1. Remove ID number 28450 from `students`\n",
    "1. Convert `students` to a list of tuples and print the list"
   ]
  },
  {
   "cell_type": "markdown",
   "metadata": {},
   "source": [
    "### 11\n",
    "Define and test the following two functions which operate on 2D lists of integers:\n",
    "1. `reverse_rows(list_ints)`: reverses the items in `list_ints` by rows\n",
    "1. `reverse_cols(list_ints)`: reverse the items in `list_ints` by columns\n",
    "\n",
    "For example, if `list_ints =[[1, 2, 3], [4, 5, 6]]`, `reverse_rows(list_ints)` would modify `list_ints` to be `[[3, 2, 1], [6, 5, 4]]` and `reverse_cols(list_ints)` would modify `list_ints` to be `[[4, 5, 6], [1, 2, 3]]`"
   ]
  },
  {
   "cell_type": "markdown",
   "metadata": {},
   "source": [
    "### 12\n",
    "Write a function called `geometric_sum()` that accepts one positive integer argument, `n`. The function returns the sum of the numbers:\n",
    "\n",
    "$$1 + \\frac{1}{2} + \\frac{1}{4} + \\frac{1}{8} + ... + \\frac{1}{2^{n - 1}}$$\n",
    "\n",
    "For example, `geometric_sum(4)` returns 1.875000"
   ]
  },
  {
   "cell_type": "markdown",
   "metadata": {},
   "source": [
    "### 13\n",
    "Download [mobydick.txt](https://raw.githubusercontent.com/gsprint23/cpts111/master/lessons/files/mobydick.txt) which is a text file that contains all of the text from the novel Moby Dick. Determine the 5 most common words in Moby Dick. \n",
    "\n",
    "Hint: use a dictionary!"
   ]
  },
  {
   "cell_type": "markdown",
   "metadata": {},
   "source": [
    "### 14\n",
    "Write a function called count_down() that accepts a parameter called start and returns a sequence of numbers starting at start and counting down to zero in increments of two.  For example: `count_down(7)` returns `[7, 5, 3, 1]`"
   ]
  },
  {
   "cell_type": "markdown",
   "metadata": {},
   "source": [
    "### 15\n",
    "In class we wrote a function that removed all instances of a number from a list of sorted numbers. We solved this by sorting the list of numbers, finding the first occurrence of the number to remove in the list, counted the number of occurrences, and deleted the slice: `del nums[index:index + count]`. This solution works because the list is sorted.\n",
    "\n",
    "Write a new function that removes all instances of a number from a list of *unsorted* numbers. Solve this without sorting the list and without declaring/using a second list.\n",
    "\n",
    "Hint: while there are instances of the number to remove in the list, delete one instance in the list."
   ]
  },
  {
   "cell_type": "markdown",
   "metadata": {},
   "source": [
    "## MA21\n",
    "On a blank sheet of paper, write the following:\n",
    "1. Your full name\n",
    "1. Your TA name\n",
    "1. MA #21\n",
    "\n",
    "**Due at the final exam.**\n",
    "\n",
    "Individually (or in pairs), solve the above exam review problems that we didn't solve in class. Each *correctly* solved problem is worth 1 point. Each student needs to turn in their own solutions to get credit for MA21.\n",
    "\n",
    "To study for the exam, I recommend solving each problem on paper, then typing up your code and running it. You can check your work this way. Re-write your final, correct solutions in a neat manner to turn in for credit on MA21.\n",
    "\n",
    "## TODO\n",
    "1. Please study for the exam! At a *minimum*:\n",
    "    * Work or re-work through:\n",
    "        * The above practice problems\n",
    "        * Problems from class\n",
    "        * Tasks from the more recent labs\n",
    "        * Re-visit the PAs\n",
    "    * Review key concepts and definitions\n",
    "1. Work on PA6.\n",
    "\n",
    "## Next Lesson\n",
    "1. More review.\n",
    "1. Demos of fun stuff in CS.\n",
    "1. In case I forget, congrats on finishing CptS 111, have a great summer, and enjoy CptS 121!"
   ]
  }
 ],
 "metadata": {
  "anaconda-cloud": {},
  "kernelspec": {
   "display_name": "Python [Root]",
   "language": "python",
   "name": "Python [Root]"
  },
  "language_info": {
   "codemirror_mode": {
    "name": "ipython",
    "version": 3
   },
   "file_extension": ".py",
   "mimetype": "text/x-python",
   "name": "python",
   "nbconvert_exporter": "python",
   "pygments_lexer": "ipython3",
   "version": "3.5.2"
  }
 },
 "nbformat": 4,
 "nbformat_minor": 0
}
