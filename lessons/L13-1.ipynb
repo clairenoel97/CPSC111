{
 "cells": [
  {
   "cell_type": "markdown",
   "metadata": {},
   "source": [
    "# [CptS 111 Introduction to Algorithmic Problem Solving](http://piazza.com/wsu/spring2017/cpts111/home)\n",
    "[Washington State University](https://wsu.edu)\n",
    "\n",
    "[Gina Sprint](http://eecs.wsu.edu/~gsprint/)\n",
    "# L13-1 List Methods\n",
    "\n",
    "Learner objectives for this lesson\n",
    "* Apply list methods\n",
    "* Delete items from a list\n",
    "* Understand the relationship between strings and lists"
   ]
  },
  {
   "cell_type": "markdown",
   "metadata": {},
   "source": [
    "## List Warm-up Problem\n",
    "Write code to do the following:\n",
    "1. Initialize a list of a few of your favorite foods\n",
    "1. Print out the number of items in the list\n",
    "1. Replace the last item in the list with \"candy\"\n",
    "1. Using a loop, print out each food separated by a comma and a space, all on the same line\n",
    "    * Note: do not have an extra comma after the last element!\n",
    "\n",
    "Example output:\n",
    "`pizza, pasta, bread, salad, ice cream`\n",
    "\n",
    "Note: your output **should not** have hard brackets or quotes like the default output from `print(fav_foods)`:\n",
    "\n",
    "`['pizza', 'pasta', 'bread', 'salad', 'ice cream']`"
   ]
  },
  {
   "cell_type": "code",
   "execution_count": 85,
   "metadata": {
    "collapsed": false
   },
   "outputs": [
    {
     "name": "stdout",
     "output_type": "stream",
     "text": [
      "number of items in list: 5\n",
      "['pizza', 'pasta', 'bread', 'salad', 'ice cream']\n",
      "['pizza', 'pasta', 'bread', 'salad', 'candy']\n",
      "pizza, pasta, bread, salad, candy\n",
      "Help on built-in function sort:\n",
      "\n",
      "sort(...) method of builtins.list instance\n",
      "    L.sort(key=None, reverse=False) -> None -- stable sort *IN PLACE*\n",
      "\n",
      "None\n"
     ]
    }
   ],
   "source": [
    "fav_foods = ['pizza', 'pasta', 'bread', 'salad', 'ice cream']\n",
    "print(\"number of items in list: %d\" %(len(fav_foods)))\n",
    "print(fav_foods)\n",
    "fav_foods[-1] = \"candy\"\n",
    "print(fav_foods)\n",
    "n = len(fav_foods)\n",
    "for i in range(n - 1):\n",
    "    print(fav_foods[i], end=\", \")\n",
    "print(fav_foods[-1])\n",
    "print(help(fav_foods.sort))"
   ]
  },
  {
   "cell_type": "markdown",
   "metadata": {
    "collapsed": true
   },
   "source": [
    "## List Methods\n",
    "Just like with strings, lists are objects that have methods we can utilize. \n",
    "\n",
    "### `append()`\n",
    "For example, since lists are mutable, there is an `append(<new item>)` method to add an item to the end of a list:"
   ]
  },
  {
   "cell_type": "code",
   "execution_count": 88,
   "metadata": {
    "collapsed": false
   },
   "outputs": [
    {
     "name": "stdout",
     "output_type": "stream",
     "text": [
      "['black', 'blue', 'green', 'red', 'purple']\n",
      "['black', 'blue', 'green', 'red', 'purple', ['crimson']]\n"
     ]
    }
   ],
   "source": [
    "colors = [\"black\", \"blue\", \"green\", \"red\", \"purple\"]\n",
    "print(colors)\n",
    "colors.append([\"crimson\"])\n",
    "print(colors)"
   ]
  },
  {
   "cell_type": "markdown",
   "metadata": {},
   "source": [
    "As review, how could we achieve the same functionality as `append()` without using `append()`?"
   ]
  },
  {
   "cell_type": "code",
   "execution_count": null,
   "metadata": {
    "collapsed": false
   },
   "outputs": [],
   "source": []
  },
  {
   "cell_type": "markdown",
   "metadata": {},
   "source": [
    "### `extend()`\n",
    "`extend()` is similar to `append()`; however, `extend()` takes a list as an argument and adds each item to the list:"
   ]
  },
  {
   "cell_type": "code",
   "execution_count": 89,
   "metadata": {
    "collapsed": false
   },
   "outputs": [
    {
     "name": "stdout",
     "output_type": "stream",
     "text": [
      "['black', 'blue', 'green', 'red', 'purple']\n",
      "['black', 'blue', 'green', 'red', 'purple', 'crimson', 'gray']\n"
     ]
    }
   ],
   "source": [
    "colors = [\"black\", \"blue\", \"green\", \"red\", \"purple\"]\n",
    "colors2 = [\"crimson\", \"gray\"]\n",
    "print(colors)\n",
    "colors.extend(colors2)\n",
    "print(colors)"
   ]
  },
  {
   "cell_type": "markdown",
   "metadata": {},
   "source": [
    "What would happen if we used `append()` instead of `extend()` in the above code?"
   ]
  },
  {
   "cell_type": "code",
   "execution_count": null,
   "metadata": {
    "collapsed": false
   },
   "outputs": [],
   "source": []
  },
  {
   "cell_type": "markdown",
   "metadata": {},
   "source": [
    "`cities` becomes a nested list!"
   ]
  },
  {
   "cell_type": "markdown",
   "metadata": {},
   "source": [
    "### `sort()`\n",
    "Many applications require lists of items to be sorted. In CptS121, you will learn how to write your own sorting algorithms. For now, we will use the `sort()` list method:"
   ]
  },
  {
   "cell_type": "code",
   "execution_count": 90,
   "metadata": {
    "collapsed": false
   },
   "outputs": [
    {
     "name": "stdout",
     "output_type": "stream",
     "text": [
      "['black', 'blue', 'green', 'red', 'purple']\n",
      "['black', 'blue', 'green', 'purple', 'red']\n"
     ]
    }
   ],
   "source": [
    "colors = [\"black\", \"blue\", \"green\", \"red\", \"purple\"]\n",
    "print(colors)\n",
    "colors.sort()\n",
    "print(colors)"
   ]
  },
  {
   "cell_type": "markdown",
   "metadata": {},
   "source": [
    "How would you sort a list in descending order? Try using `help(cities.sort)` to find out:"
   ]
  },
  {
   "cell_type": "code",
   "execution_count": 91,
   "metadata": {
    "collapsed": false
   },
   "outputs": [
    {
     "name": "stdout",
     "output_type": "stream",
     "text": [
      "Help on built-in function sort:\n",
      "\n",
      "sort(...) method of builtins.list instance\n",
      "    L.sort(key=None, reverse=False) -> None -- stable sort *IN PLACE*\n",
      "\n",
      "None\n"
     ]
    }
   ],
   "source": [
    "print(help(colors.sort))"
   ]
  },
  {
   "cell_type": "code",
   "execution_count": 92,
   "metadata": {
    "collapsed": false
   },
   "outputs": [
    {
     "name": "stdout",
     "output_type": "stream",
     "text": [
      "['black', 'blue', 'green', 'red', 'purple']\n",
      "['red', 'purple', 'green', 'blue', 'black']\n"
     ]
    }
   ],
   "source": [
    "colors = [\"black\", \"blue\", \"green\", \"red\", \"purple\"]\n",
    "print(colors)\n",
    "colors.sort(reverse=True)\n",
    "print(colors)"
   ]
  },
  {
   "cell_type": "markdown",
   "metadata": {},
   "source": [
    "## Deleting Items in a List\n",
    "Since lists are mutable, we can delete items in a list. \n",
    "\n",
    "### Single Item Deletes\n",
    "We have two list methods to delete a *single* item in a list\n",
    "1. When you know the *index* of the item to delete\n",
    "    * `item_removed = pop(<index>)`\n",
    "1. When you know the *value* of the item to delete\n",
    "    * `remove(<item>)`"
   ]
  },
  {
   "cell_type": "code",
   "execution_count": 95,
   "metadata": {
    "collapsed": false
   },
   "outputs": [
    {
     "name": "stdout",
     "output_type": "stream",
     "text": [
      "['black', 'blue', 'green', 'red', 'purple']\n",
      "['black', 'blue', 'green', 'red']\n"
     ]
    }
   ],
   "source": [
    "colors = [\"black\", \"blue\", \"green\", \"red\", \"purple\"]\n",
    "print(colors)\n",
    "colors.remove(\"purple\")\n",
    "print(colors)"
   ]
  },
  {
   "cell_type": "markdown",
   "metadata": {},
   "source": [
    "### `del` Keyword and Multiple Item Deletes\n",
    "Alternatively, we can delete an object using the `del` reserved keyword:"
   ]
  },
  {
   "cell_type": "code",
   "execution_count": 97,
   "metadata": {
    "collapsed": false
   },
   "outputs": [
    {
     "name": "stdout",
     "output_type": "stream",
     "text": [
      "['black', 'blue', 'green', 'red', 'purple']\n",
      "['green', 'red', 'purple']\n"
     ]
    }
   ],
   "source": [
    "colors = [\"black\", \"blue\", \"green\", \"red\", \"purple\"]\n",
    "print(colors)\n",
    "del colors[0:2]\n",
    "print(colors)"
   ]
  },
  {
   "cell_type": "markdown",
   "metadata": {},
   "source": [
    "We may want to delete multiple items at a time. We can do this with a slice and `del`:"
   ]
  },
  {
   "cell_type": "code",
   "execution_count": null,
   "metadata": {
    "collapsed": false
   },
   "outputs": [],
   "source": []
  },
  {
   "cell_type": "markdown",
   "metadata": {},
   "source": [
    "### Relationship Between Strings and Lists\n",
    "A list of single character strings is not a string:"
   ]
  },
  {
   "cell_type": "code",
   "execution_count": 98,
   "metadata": {
    "collapsed": false
   },
   "outputs": [
    {
     "name": "stdout",
     "output_type": "stream",
     "text": [
      "['b', 'l', 'a', 'c', 'k'] <class 'list'>\n"
     ]
    }
   ],
   "source": [
    "b = [\"b\", \"l\", \"a\", \"c\", \"k\"]\n",
    "print(b, type(b))"
   ]
  },
  {
   "cell_type": "markdown",
   "metadata": {},
   "source": [
    "### `join()` (string method)\n",
    "However, we can turn a list of strings into a string with the `join()` string method. We need to specify a \"delimiter\" string to use to concatenate the individual strings in a list into a single string:"
   ]
  },
  {
   "cell_type": "code",
   "execution_count": 106,
   "metadata": {
    "collapsed": false,
    "scrolled": true
   },
   "outputs": [
    {
     "name": "stdout",
     "output_type": "stream",
     "text": [
      "['b', 'l', 'a', 'c', 'k'] <class 'list'>\n",
      "black <class 'str'>\n"
     ]
    }
   ],
   "source": [
    "b = [\"b\", \"l\", \"a\", \"c\", \"k\"]\n",
    "print(b, type(b))\n",
    "delimiter = \"\"\n",
    "b_str = delimiter.join(b)\n",
    "print(b_str, type(b_str))"
   ]
  },
  {
   "cell_type": "markdown",
   "metadata": {},
   "source": [
    "### `list()` (function)\n",
    "To convert the string back into a list, we can type cast the string into a list with `list()`:"
   ]
  },
  {
   "cell_type": "code",
   "execution_count": 104,
   "metadata": {
    "collapsed": false
   },
   "outputs": [
    {
     "name": "stdout",
     "output_type": "stream",
     "text": [
      "['b', 'l', 'a', 'c', 'k'] <class 'list'>\n"
     ]
    }
   ],
   "source": [
    "b2 = list(b_str)\n",
    "print(b2, type(b2))"
   ]
  },
  {
   "cell_type": "markdown",
   "metadata": {},
   "source": [
    "### `split()` (string method)\n",
    "`split(<string delimiter>)` breaks a string into pieces at each `<string delimiter>`. The pieces are returned as a list: "
   ]
  },
  {
   "cell_type": "code",
   "execution_count": 108,
   "metadata": {
    "collapsed": false
   },
   "outputs": [
    {
     "name": "stdout",
     "output_type": "stream",
     "text": [
      "['hello', 'how', 'are', 'you?']\n"
     ]
    }
   ],
   "source": [
    "sentence = \"hello,how,are,you?\"\n",
    "words = sentence.split(\",\")\n",
    "print(words)"
   ]
  },
  {
   "cell_type": "markdown",
   "metadata": {},
   "source": [
    "## MA18 Practice Problem\n",
    "On a blank sheet of paper, write the following:\n",
    "1. Your full name\n",
    "1. Your TA name\n",
    "1. MA #18\n",
    "\n",
    "In pairs (or individually), solve the following problems. Each student needs to turn in their own paper to get credit for MA18.\n",
    "\n",
    "Write a program that generates 100 numbers between 1 and 200 inclusive and puts them in a list. The program then does the following using the list:\n",
    "* Prints the numbers\n",
    "* Sorts the numbers\n",
    "* Prints the largest and smallest number in the list\n",
    "* Determines the number of times a user-specified number is in the list\n",
    "* Removes all instances of a user-specified number in the list\n",
    "\n",
    "### Step 1\n",
    "Create an empty list to store the 100 numbers."
   ]
  },
  {
   "cell_type": "code",
   "execution_count": 109,
   "metadata": {
    "collapsed": true
   },
   "outputs": [],
   "source": [
    "nums = [] "
   ]
  },
  {
   "cell_type": "markdown",
   "metadata": {},
   "source": [
    "### Step 2\n",
    "Write code to generate 100 random numbers between 1 and 200 store them in the list."
   ]
  },
  {
   "cell_type": "code",
   "execution_count": 111,
   "metadata": {
    "collapsed": false
   },
   "outputs": [
    {
     "name": "stdout",
     "output_type": "stream",
     "text": [
      "[32, 162, 153, 136, 109, 177, 24, 130, 121, 36, 161, 123, 26, 138, 145, 173, 29, 6, 32, 77, 2, 135, 123, 59, 55, 193, 148, 155, 67, 59, 182, 192, 177, 176, 187, 191, 183, 177, 92, 4, 170, 144, 13, 32, 152, 137, 13, 174, 8, 153, 58, 101, 13, 167, 78, 185, 97, 194, 59, 79, 104, 140, 145, 54, 107, 157, 136, 17, 111, 174, 172, 146, 36, 114, 39, 71, 10, 195, 29, 16, 54, 200, 100, 195, 114, 178, 61, 84, 199, 84, 17, 49, 102, 111, 36, 141, 136, 1, 136, 141, 89, 189, 23, 28, 60, 9, 139, 133, 61, 195, 163, 47, 118, 58, 135, 59, 64, 144, 46, 65, 169, 5, 175, 97, 111, 91, 55, 5, 103, 151, 87, 154, 107, 168, 53, 174, 88, 42, 148, 200, 123, 101, 50, 72, 54, 166, 112, 122, 67, 147, 152, 29, 138, 84, 145, 63, 71, 58, 147, 173, 56, 46, 5, 142, 195, 138, 60, 45, 79, 66, 9, 53, 58, 193, 119, 174, 177, 64, 100, 157, 30, 111, 94, 185, 125, 33, 163, 88, 190, 170, 25, 16, 164, 164, 168, 145, 54, 5, 188, 8]\n"
     ]
    }
   ],
   "source": [
    "import random\n",
    "for i in range(100):\n",
    "    rand_num = random.randint(1, 200)\n",
    "    nums.append(rand_num)\n",
    "print(nums)"
   ]
  },
  {
   "cell_type": "markdown",
   "metadata": {},
   "source": [
    "### Step 3\n",
    "Write code to print the list without the brackets. Create a separate function for this since you will be printing the list several times. "
   ]
  },
  {
   "cell_type": "code",
   "execution_count": 112,
   "metadata": {
    "collapsed": false
   },
   "outputs": [
    {
     "name": "stdout",
     "output_type": "stream",
     "text": [
      "32, 162, 153, 136, 109, 177, 24, 130, 121, 36, 161, 123, 26, 138, 145, 173, 29, 6, 32, 77, 2, 135, 123, 59, 55, 193, 148, 155, 67, 59, 182, 192, 177, 176, 187, 191, 183, 177, 92, 4, 170, 144, 13, 32, 152, 137, 13, 174, 8, 153, 58, 101, 13, 167, 78, 185, 97, 194, 59, 79, 104, 140, 145, 54, 107, 157, 136, 17, 111, 174, 172, 146, 36, 114, 39, 71, 10, 195, 29, 16, 54, 200, 100, 195, 114, 178, 61, 84, 199, 84, 17, 49, 102, 111, 36, 141, 136, 1, 136, 141, 89, 189, 23, 28, 60, 9, 139, 133, 61, 195, 163, 47, 118, 58, 135, 59, 64, 144, 46, 65, 169, 5, 175, 97, 111, 91, 55, 5, 103, 151, 87, 154, 107, 168, 53, 174, 88, 42, 148, 200, 123, 101, 50, 72, 54, 166, 112, 122, 67, 147, 152, 29, 138, 84, 145, 63, 71, 58, 147, 173, 56, 46, 5, 142, 195, 138, 60, 45, 79, 66, 9, 53, 58, 193, 119, 174, 177, 64, 100, 157, 30, 111, 94, 185, 125, 33, 163, 88, 190, 170, 25, 16, 164, 164, 168, 145, 54, 5, 188, 8\n"
     ]
    }
   ],
   "source": [
    "def print_list(nums):\n",
    "    n = len(nums)\n",
    "    for i in range(n - 1):\n",
    "        print(nums[i], end=\", \")\n",
    "    print(nums[-1])"
   ]
  },
  {
   "cell_type": "markdown",
   "metadata": {},
   "source": [
    "### Step 4\n",
    "Write code that sorts the numbers in ascending order. Print the list after it is sorted."
   ]
  },
  {
   "cell_type": "code",
   "execution_count": 113,
   "metadata": {
    "collapsed": false
   },
   "outputs": [
    {
     "name": "stdout",
     "output_type": "stream",
     "text": [
      "1 2 4 5 5 5 5 6 8 8 9 9 10 13 13 13 16 16 17 17 23 24 25 26 28 29 29 29 30 32 32 32 33 36 36 36 39 42 45 46 46 47 49 50 53 53 54 54 54 54 55 55 56 58 58 58 58 59 59 59 59 60 60 61 61 63 64 64 65 66 67 67 71 71 72 77 78 79 79 84 84 84 87 88 88 89 91 92 94 97 97 100 100 101 101 102 103 104 107 107 109 111 111 111 111 112 114 114 118 119 121 122 123 123 123 125 130 133 135 135 136 136 136 136 137 138 138 138 139 140 141 141 142 144 144 145 145 145 145 146 147 147 148 148 151 152 152 153 153 154 155 157 157 161 162 163 163 164 164 166 167 168 168 169 170 170 172 173 173 174 174 174 174 175 176 177 177 177 177 178 182 183 185 185 187 188 189 190 191 192 193 193 194 195 195 195 195 199 200 200 \n"
     ]
    }
   ],
   "source": [
    "nums.sort()\n",
    "print_list(nums)"
   ]
  },
  {
   "cell_type": "markdown",
   "metadata": {},
   "source": [
    "### Step 5\n",
    "Write code to print the largest and smallest number in the list."
   ]
  },
  {
   "cell_type": "code",
   "execution_count": null,
   "metadata": {
    "collapsed": false
   },
   "outputs": [],
   "source": []
  },
  {
   "cell_type": "markdown",
   "metadata": {},
   "source": [
    "### Step 6\n",
    "Write code that prompts the user for a number between 1 and 200 and prints how many times that number is in the list. If the number is not in the list print the message: \"Sorry, your number is not here!\""
   ]
  },
  {
   "cell_type": "code",
   "execution_count": null,
   "metadata": {
    "collapsed": false
   },
   "outputs": [],
   "source": []
  },
  {
   "cell_type": "markdown",
   "metadata": {},
   "source": [
    "### (Tricky) Step 7\n",
    "Write code that prompts the user for a number between 1 and 200 and removes all instances of that item from the list (if it is in the list). If the number is not in the list print the message: \"Sorry, your number is not here!\""
   ]
  },
  {
   "cell_type": "code",
   "execution_count": null,
   "metadata": {
    "collapsed": false
   },
   "outputs": [],
   "source": []
  },
  {
   "cell_type": "markdown",
   "metadata": {},
   "source": [
    "## TODO\n",
    "1. Work on the Bonus PA and PA6.\n",
    "1. Read the related chapters in the books.\n",
    "\n",
    "## Next Lesson\n",
    "We wrap up lists!"
   ]
  }
 ],
 "metadata": {
  "anaconda-cloud": {},
  "kernelspec": {
   "display_name": "Python [Root]",
   "language": "python",
   "name": "Python [Root]"
  },
  "language_info": {
   "codemirror_mode": {
    "name": "ipython",
    "version": 3
   },
   "file_extension": ".py",
   "mimetype": "text/x-python",
   "name": "python",
   "nbconvert_exporter": "python",
   "pygments_lexer": "ipython3",
   "version": "3.5.2"
  }
 },
 "nbformat": 4,
 "nbformat_minor": 0
}
