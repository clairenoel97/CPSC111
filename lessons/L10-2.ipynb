{
 "cells": [
  {
   "cell_type": "markdown",
   "metadata": {},
   "source": [
    "# [CptS 111 Introduction to Algorithmic Problem Solving](http://piazza.com/wsu/spring2017/cpts111/home)\n",
    "[Washington State University](https://wsu.edu)\n",
    "\n",
    "[Gina Sprint](http://eecs.wsu.edu/~gsprint/)\n",
    "# L10-2 Strings\n",
    "\n",
    "Learner objectives for this lesson\n",
    "* Learn about string indexing\n",
    "* Iterate through characters in a string using loops\n",
    "* Learn about string slicing\n",
    "* Understand immutability"
   ]
  },
  {
   "cell_type": "markdown",
   "metadata": {
    "collapsed": true
   },
   "source": [
    "## Review of Strings\n",
    "A long time ago, we learned a string is a *sequence of characters*. We learned how to use strings in print statements, how to assign a string to a variable, how to typecast to a string using `str()`."
   ]
  },
  {
   "cell_type": "code",
   "execution_count": null,
   "metadata": {
    "collapsed": false
   },
   "outputs": [],
   "source": []
  },
  {
   "cell_type": "markdown",
   "metadata": {},
   "source": [
    "### String Concatenation\n",
    "We also learned how to make new strings using string concatenation (the `+` operator): `new_string = old_string1 + old_string2`:"
   ]
  },
  {
   "cell_type": "code",
   "execution_count": null,
   "metadata": {
    "collapsed": false
   },
   "outputs": [],
   "source": []
  },
  {
   "cell_type": "markdown",
   "metadata": {},
   "source": [
    "### Strings and `for` Loops\n",
    "More recently, we learned about sequences in the context of `for` loops:\n",
    "\n",
    "```for <item> in <sequence>:\n",
    "    <body>\n",
    "```\n",
    "\n",
    "We can also use `for` loops to iterate through each character in a string:"
   ]
  },
  {
   "cell_type": "code",
   "execution_count": null,
   "metadata": {
    "collapsed": false
   },
   "outputs": [],
   "source": []
  },
  {
   "cell_type": "markdown",
   "metadata": {},
   "source": [
    "We can do this because the string \"PYTHON\" is a sequence of characters, where the first character (\"P\") is the located at the first index, index 0. This is called 0-based indexing."
   ]
  },
  {
   "cell_type": "markdown",
   "metadata": {},
   "source": [
    "## String Indexing\n",
    "Logically, the string `\"PYTHON\"` is organized as follows:\n",
    "\n",
    "|Index:|0|1|2|3|4|5|\n",
    "|-|-|-|-|-|-|-|\n",
    "|Character:|P|Y|T|H|O|N|\n",
    "\n",
    "In general, a string that has `n` characters has valid indices of 0, 1, ..., `n` - 1.\n",
    "\n",
    "We can access a single character in the string using indexing notation: `[<index>]` (hard brackets):"
   ]
  },
  {
   "cell_type": "code",
   "execution_count": null,
   "metadata": {
    "collapsed": false
   },
   "outputs": [],
   "source": []
  },
  {
   "cell_type": "markdown",
   "metadata": {},
   "source": [
    "What happens if we try to index beyond `n` - 1?"
   ]
  },
  {
   "cell_type": "code",
   "execution_count": null,
   "metadata": {
    "collapsed": false
   },
   "outputs": [],
   "source": []
  },
  {
   "cell_type": "markdown",
   "metadata": {},
   "source": [
    "Your program will crash! Python will tell you why though: \"IndexError: string index out of range\".\n",
    "\n",
    "We can also index into a string to get single characters by using a variable:"
   ]
  },
  {
   "cell_type": "code",
   "execution_count": null,
   "metadata": {
    "collapsed": false
   },
   "outputs": [],
   "source": []
  },
  {
   "cell_type": "markdown",
   "metadata": {},
   "source": [
    "## String Length\n",
    "We can find out the length of a string, meaning the number of characters in the string, by calling the built-in string `len(<string>)` function:"
   ]
  },
  {
   "cell_type": "code",
   "execution_count": null,
   "metadata": {
    "collapsed": false
   },
   "outputs": [],
   "source": []
  },
  {
   "cell_type": "markdown",
   "metadata": {},
   "source": [
    "Note: `len()` can also be useful for determining the valid index range of a string (length of the string - 1):"
   ]
  },
  {
   "cell_type": "code",
   "execution_count": null,
   "metadata": {
    "collapsed": false
   },
   "outputs": [],
   "source": []
  },
  {
   "cell_type": "markdown",
   "metadata": {},
   "source": [
    "### The Empty String\n",
    "We can have an empty string (`\"\"`), a string with no characters."
   ]
  },
  {
   "cell_type": "code",
   "execution_count": null,
   "metadata": {
    "collapsed": false
   },
   "outputs": [],
   "source": []
  },
  {
   "cell_type": "markdown",
   "metadata": {},
   "source": [
    "## Strings and `while` Loops\n",
    "Now, we can use a `while` loop and the built-in `len()` function to display individual characters of a string, similar to how we used a `for` loop above. Our loop control variable wil be a variable (`i`) used to index into the string: "
   ]
  },
  {
   "cell_type": "code",
   "execution_count": null,
   "metadata": {
    "collapsed": false
   },
   "outputs": [],
   "source": []
  },
  {
   "cell_type": "markdown",
   "metadata": {},
   "source": [
    "Using the `len()` function. We do not need to know in advance how many characters are in `my_string` to walk through each character and print it. "
   ]
  },
  {
   "cell_type": "markdown",
   "metadata": {},
   "source": [
    "## String Slicing\n",
    "We can use the `:` operator to select a *slice* of a string: `<string variable>[start_index:end_index + 1]`\n",
    "\n",
    "For example:"
   ]
  },
  {
   "cell_type": "code",
   "execution_count": null,
   "metadata": {
    "collapsed": false
   },
   "outputs": [],
   "source": []
  },
  {
   "cell_type": "markdown",
   "metadata": {},
   "source": [
    "Omitting the start index implies a 0 for a start index and omitting an end index implies a `len(<string variable>)` for an end index:"
   ]
  },
  {
   "cell_type": "code",
   "execution_count": null,
   "metadata": {
    "collapsed": false
   },
   "outputs": [],
   "source": []
  },
  {
   "cell_type": "markdown",
   "metadata": {},
   "source": [
    "Note: We can also use negative indices! The last index of a string is -1, the second to last index is -2, and so on, until the first index is `-len(<string variable>)`\n",
    "\n",
    "|Index:|0|1|2|3|4|5|\n",
    "|-|-|-|-|-|-|-|\n",
    "|Character:|P|Y|T|H|O|N|\n",
    "|Index:|-6|-5|-4|-3|-2|-1|"
   ]
  },
  {
   "cell_type": "code",
   "execution_count": null,
   "metadata": {
    "collapsed": false
   },
   "outputs": [],
   "source": []
  },
  {
   "cell_type": "markdown",
   "metadata": {},
   "source": [
    "## Immutability of Strings\n",
    "Strings are *immutable*, meaning they can't be changed. This means we cannot re-assign a character of a string:"
   ]
  },
  {
   "cell_type": "code",
   "execution_count": null,
   "metadata": {
    "collapsed": false
   },
   "outputs": [],
   "source": []
  },
  {
   "cell_type": "markdown",
   "metadata": {},
   "source": [
    "To \"change\" a string (remember strings are immutable), we can make a new string that is a variant of the old string:"
   ]
  },
  {
   "cell_type": "code",
   "execution_count": null,
   "metadata": {
    "collapsed": false
   },
   "outputs": [],
   "source": []
  },
  {
   "cell_type": "markdown",
   "metadata": {},
   "source": [
    "## MA15 Practice Problem\n",
    "On a blank sheet of paper, write the following:\n",
    "1. Your full name\n",
    "1. Your TA name\n",
    "1. MA #15\n",
    "\n",
    "In pairs (or individually), solve the following problems. Each student needs to turn in their own paper to get credit for MA15."
   ]
  },
  {
   "cell_type": "code",
   "execution_count": 2,
   "metadata": {
    "collapsed": true
   },
   "outputs": [],
   "source": [
    "holiday = \"easter\""
   ]
  },
  {
   "cell_type": "markdown",
   "metadata": {},
   "source": [
    "Given the above string declaration, answer the following questions:\n",
    "1. What are the valid positive and negative indices of `holiday`?\n",
    "1. Write code to print the number of characters in `holiday`\n",
    "1. Write code to print the \"a\"\n",
    "1. Write code to print \"ter\"\n",
    "1. Write code to assign a new string \"easter is April 16th\" using `holiday`\n",
    "1. Write code to assign a new string \"Easter\" using `holiday`"
   ]
  },
  {
   "cell_type": "markdown",
   "metadata": {},
   "source": [
    "## TODO\n",
    "1. Read Chapter 9 in How to Think Like a Computer Scientist\n",
    "1. Work on PA5\n",
    "\n",
    "## Next Lesson\n",
    "1. More about Strings\n",
    "1. String methods"
   ]
  }
 ],
 "metadata": {
  "anaconda-cloud": {},
  "kernelspec": {
   "display_name": "Python [Root]",
   "language": "python",
   "name": "Python [Root]"
  },
  "language_info": {
   "codemirror_mode": {
    "name": "ipython",
    "version": 3
   },
   "file_extension": ".py",
   "mimetype": "text/x-python",
   "name": "python",
   "nbconvert_exporter": "python",
   "pygments_lexer": "ipython3",
   "version": "3.5.2"
  }
 },
 "nbformat": 4,
 "nbformat_minor": 0
}
